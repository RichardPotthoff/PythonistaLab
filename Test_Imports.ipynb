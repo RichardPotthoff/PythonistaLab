{
 "cells": [
  {
   "cell_type": "code",
   "execution_count": null,
   "id": "73880047",
   "metadata": {
    "collapsed": false,
    "jupyter": {
     "outputs_hidden": false,
     "source_hidden": false
    },
    "pythonista": {
     "disabled": false
    }
   },
   "outputs": [
    {
     "name": "stdout",
     "output_type": "stream",
     "text": [
      "NOTE: %pip support in Pythonista (Lab) is experimental, and due to limitations of iOS, only pure Python packages can be installed at all. Many popular third-party libraries are already bundled with Pythonista, so the package you want to install may already be available.\n",
      "\n",
      "\n",
      "Package                   Version\n"
     ]
    },
    {
     "name": "stdout",
     "output_type": "stream",
     "text": [
      "------------------------- ------------\n"
     ]
    },
    {
     "name": "stdout",
     "output_type": "stream",
     "text": [
      "annotated-types           None\n"
     ]
    },
    {
     "name": "stdout",
     "output_type": "stream",
     "text": [
      "anyio                     4.4.0\n"
     ]
    },
    {
     "name": "stdout",
     "output_type": "stream",
     "text": [
      "asttokens                 2.4.1\n"
     ]
    },
    {
     "name": "stdout",
     "output_type": "stream",
     "text": [
      "async-lru                 None\n"
     ]
    },
    {
     "name": "stdout",
     "output_type": "stream",
     "text": [
      "attrs                     24.2.0\n"
     ]
    },
    {
     "name": "stdout",
     "output_type": "stream",
     "text": [
      "babel                     2.16.0\n"
     ]
    },
    {
     "name": "stdout",
     "output_type": "stream",
     "text": [
      "beautifulsoup4            4.13.3\n"
     ]
    },
    {
     "name": "stdout",
     "output_type": "stream",
     "text": [
      "bleach                    6.1.0\n"
     ]
    },
    {
     "name": "stdout",
     "output_type": "stream",
     "text": [
      "blinker                   1.8.2\n"
     ]
    },
    {
     "name": "stdout",
     "output_type": "stream",
     "text": [
      "branca                    0.8.0\n"
     ]
    },
    {
     "name": "stdout",
     "output_type": "stream",
     "text": [
      "certifi                   2024.7.4\n"
     ]
    },
    {
     "name": "stdout",
     "output_type": "stream",
     "text": [
      "charset-normalizer        3.3.2\n"
     ]
    },
    {
     "name": "stdout",
     "output_type": "stream",
     "text": [
      "comm                      None\n"
     ]
    },
    {
     "name": "stdout",
     "output_type": "stream",
     "text": [
      "contourpy                 1.3.1\n"
     ]
    },
    {
     "name": "stdout",
     "output_type": "stream",
     "text": [
      "cycler                    0.12.1\n"
     ]
    },
    {
     "name": "stdout",
     "output_type": "stream",
     "text": [
      "debugpy                   1.8.12\n"
     ]
    },
    {
     "name": "stdout",
     "output_type": "stream",
     "text": [
      "decorator                 None\n"
     ]
    },
    {
     "name": "stdout",
     "output_type": "stream",
     "text": [
      "defusedxml                0.7.1\n"
     ]
    },
    {
     "name": "stdout",
     "output_type": "stream",
     "text": [
      "diskcache                 5.6.3\n"
     ]
    },
    {
     "name": "stdout",
     "output_type": "stream",
     "text": [
      "executing                 2.0.1\n"
     ]
    },
    {
     "name": "stdout",
     "output_type": "stream",
     "text": [
      "Faker                     27.4.0\n"
     ]
    },
    {
     "name": "stdout",
     "output_type": "stream",
     "text": [
      "fastjsonschema            2.21.1\n"
     ]
    },
    {
     "name": "stdout",
     "output_type": "stream",
     "text": [
      "filelock                  3.16.1\n"
     ]
    },
    {
     "name": "stdout",
     "output_type": "stream",
     "text": [
      "flask                     None\n"
     ]
    },
    {
     "name": "stdout",
     "output_type": "stream",
     "text": [
      "fonttools                 4.55.6\n"
     ]
    },
    {
     "name": "stdout",
     "output_type": "stream",
     "text": [
      "fsspec                    2024.10.0\n"
     ]
    },
    {
     "name": "stdout",
     "output_type": "stream",
     "text": [
      "h11                       0.14.0\n"
     ]
    },
    {
     "name": "stdout",
     "output_type": "stream",
     "text": [
      "httpcore                  1.0.5\n"
     ]
    },
    {
     "name": "stdout",
     "output_type": "stream",
     "text": [
      "httpx                     0.27.0\n"
     ]
    },
    {
     "name": "stdout",
     "output_type": "stream",
     "text": [
      "huggingface-hub           0.26.5\n"
     ]
    },
    {
     "name": "stdout",
     "output_type": "stream",
     "text": [
      "humanize                  4.11.0\n"
     ]
    },
    {
     "name": "stdout",
     "output_type": "stream",
     "text": [
      "idna                      3.10\n"
     ]
    },
    {
     "name": "stdout",
     "output_type": "stream",
     "text": [
      "imageio                   2.37.0\n"
     ]
    },
    {
     "name": "stdout",
     "output_type": "stream",
     "text": [
      "importlib_metadata        8.6.1\n"
     ]
    },
    {
     "name": "stdout",
     "output_type": "stream",
     "text": [
      "iniconfig                 2.0.0\n"
     ]
    },
    {
     "name": "stdout",
     "output_type": "stream",
     "text": [
      "ipykernel                 6.29.5\n"
     ]
    },
    {
     "name": "stdout",
     "output_type": "stream",
     "text": [
      "ipython                   8.26.0\n"
     ]
    },
    {
     "name": "stdout",
     "output_type": "stream",
     "text": [
      "ipywidgets                8.1.5\n"
     ]
    },
    {
     "name": "stdout",
     "output_type": "stream",
     "text": [
      "itsdangerous              None\n"
     ]
    },
    {
     "name": "stdout",
     "output_type": "stream",
     "text": [
      "jedi                      0.9.0\n"
     ]
    },
    {
     "name": "stdout",
     "output_type": "stream",
     "text": [
      "Jinja2                    3.1.4\n"
     ]
    },
    {
     "name": "stdout",
     "output_type": "stream",
     "text": [
      "json5                     0.10.0\n"
     ]
    },
    {
     "name": "stdout",
     "output_type": "stream",
     "text": [
      "jsonschema                4.23.0\n"
     ]
    },
    {
     "name": "stdout",
     "output_type": "stream",
     "text": [
      "jsonschema-specifications 2024.10.1\n"
     ]
    },
    {
     "name": "stdout",
     "output_type": "stream",
     "text": [
      "jupyter_client            8.6.2\n"
     ]
    },
    {
     "name": "stdout",
     "output_type": "stream",
     "text": [
      "jupyter_core              5.7.2\n"
     ]
    },
    {
     "name": "stdout",
     "output_type": "stream",
     "text": [
      "jupyter-events            0.12.0\n"
     ]
    },
    {
     "name": "stdout",
     "output_type": "stream",
     "text": [
      "jupyter-lsp               2.2.5\n"
     ]
    },
    {
     "name": "stdout",
     "output_type": "stream",
     "text": [
      "jupyter_server            2.14.2\n"
     ]
    },
    {
     "name": "stdout",
     "output_type": "stream",
     "text": [
      "jupyter_server_terminals  0.5.3\n"
     ]
    },
    {
     "name": "stdout",
     "output_type": "stream",
     "text": [
      "jupyterlab                4.3.5\n"
     ]
    },
    {
     "name": "stdout",
     "output_type": "stream",
     "text": [
      "jupyterlab_pygments       0.3.0\n"
     ]
    },
    {
     "name": "stdout",
     "output_type": "stream",
     "text": [
      "jupyterlab_server         2.27.3\n"
     ]
    },
    {
     "name": "stdout",
     "output_type": "stream",
     "text": [
      "jupyterlab_widgets        3.0.13\n"
     ]
    },
    {
     "name": "stdout",
     "output_type": "stream",
     "text": [
      "kiwisolver                1.4.8\n"
     ]
    },
    {
     "name": "stdout",
     "output_type": "stream",
     "text": [
      "MarkupSafe                2.1.5\n"
     ]
    },
    {
     "name": "stdout",
     "output_type": "stream",
     "text": [
      "matplotlib                3.9.2\n"
     ]
    },
    {
     "name": "stdout",
     "output_type": "stream",
     "text": [
      "matplotlib-inline         0.1.7\n"
     ]
    },
    {
     "name": "stdout",
     "output_type": "stream",
     "text": [
      "mistune                   3.0.2\n"
     ]
    },
    {
     "name": "stdout",
     "output_type": "stream",
     "text": [
      "mpmath                    1.3.0\n"
     ]
    },
    {
     "name": "stdout",
     "output_type": "stream",
     "text": [
      "nbclient                  0.10.0\n"
     ]
    },
    {
     "name": "stdout",
     "output_type": "stream",
     "text": [
      "nbconvert                 7.16.4\n"
     ]
    },
    {
     "name": "stdout",
     "output_type": "stream",
     "text": [
      "nbformat                  5.10.4\n"
     ]
    },
    {
     "name": "stdout",
     "output_type": "stream",
     "text": [
      "nest-asyncio              1.6.0\n"
     ]
    },
    {
     "name": "stdout",
     "output_type": "stream",
     "text": [
      "notebook                  7.3.2\n"
     ]
    },
    {
     "name": "stdout",
     "output_type": "stream",
     "text": [
      "notebook-shim             None\n"
     ]
    },
    {
     "name": "stdout",
     "output_type": "stream",
     "text": [
      "numpy                     1.26.4\n"
     ]
    },
    {
     "name": "stdout",
     "output_type": "stream",
     "text": [
      "overrides                 None\n"
     ]
    },
    {
     "name": "stdout",
     "output_type": "stream",
     "text": [
      "packaging                 23.1\n"
     ]
    },
    {
     "name": "stdout",
     "output_type": "stream",
     "text": [
      "pandas                    2.2.2\n"
     ]
    },
    {
     "name": "stdout",
     "output_type": "stream",
     "text": [
      "pandocfilters             None\n"
     ]
    },
    {
     "name": "stdout",
     "output_type": "stream",
     "text": [
      "pdoc                      15.0.0\n"
     ]
    },
    {
     "name": "stdout",
     "output_type": "stream",
     "text": [
      "pexpect                   4.9.0\n"
     ]
    },
    {
     "name": "stdout",
     "output_type": "stream",
     "text": [
      "pillow                    11.1.0\n"
     ]
    },
    {
     "name": "stdout",
     "output_type": "stream",
     "text": [
      "pip                       25.0.1\n"
     ]
    },
    {
     "name": "stdout",
     "output_type": "stream",
     "text": [
      "platformdirs              4.2.2\n"
     ]
    },
    {
     "name": "stdout",
     "output_type": "stream",
     "text": [
      "pluggy                    1.5.0\n"
     ]
    },
    {
     "name": "stdout",
     "output_type": "stream",
     "text": [
      "proglog                   0.1.10\n"
     ]
    },
    {
     "name": "stdout",
     "output_type": "stream",
     "text": [
      "prometheus_client         0.21.1\n"
     ]
    },
    {
     "name": "stdout",
     "output_type": "stream",
     "text": [
      "prompt-toolkit            None\n"
     ]
    },
    {
     "name": "stdout",
     "output_type": "stream",
     "text": [
      "ptyprocess                0.7.0\n"
     ]
    },
    {
     "name": "stdout",
     "output_type": "stream",
     "text": [
      "pure-eval                 None\n"
     ]
    },
    {
     "name": "stdout",
     "output_type": "stream",
     "text": [
      "Pygments                  2.18.0\n"
     ]
    },
    {
     "name": "stdout",
     "output_type": "stream",
     "text": [
      "pyparsing                 3.2.1\n"
     ]
    },
    {
     "name": "stdout",
     "output_type": "stream",
     "text": [
      "pyperclip                 1.9.0\n"
     ]
    },
    {
     "name": "stdout",
     "output_type": "stream",
     "text": [
      "pypng                     0.20220715.0\n"
     ]
    },
    {
     "name": "stdout",
     "output_type": "stream",
     "text": [
      "pyrsistent                0.20.0\n"
     ]
    },
    {
     "name": "stdout",
     "output_type": "stream",
     "text": [
      "python-dateutil           2.9.0.post0\n"
     ]
    },
    {
     "name": "stdout",
     "output_type": "stream",
     "text": [
      "python-dotenv             None\n"
     ]
    },
    {
     "name": "stdout",
     "output_type": "stream",
     "text": [
      "python-json-logger        3.2.1\n"
     ]
    },
    {
     "name": "stdout",
     "output_type": "stream",
     "text": [
      "pytz                      2024.2\n"
     ]
    },
    {
     "name": "stdout",
     "output_type": "stream",
     "text": [
      "PyYAML                    6.0.2\n"
     ]
    },
    {
     "name": "stdout",
     "output_type": "stream",
     "text": [
      "pyzmq                     26.2.1\n"
     ]
    },
    {
     "name": "stdout",
     "output_type": "stream",
     "text": [
      "qrcode                    7.4.2\n"
     ]
    },
    {
     "name": "stdout",
     "output_type": "stream",
     "text": [
      "referencing               0.36.2\n"
     ]
    },
    {
     "name": "stdout",
     "output_type": "stream",
     "text": [
      "requests                  2.32.3\n"
     ]
    },
    {
     "name": "stdout",
     "output_type": "stream",
     "text": [
      "rfc3339-validator         None\n"
     ]
    },
    {
     "name": "stdout",
     "output_type": "stream",
     "text": [
      "rfc3986-validator         0.1.1\n"
     ]
    },
    {
     "name": "stdout",
     "output_type": "stream",
     "text": [
      "rubicon-objc              0.5.0\n"
     ]
    },
    {
     "name": "stdout",
     "output_type": "stream",
     "text": [
      "Send2Trash                1.8.3\n"
     ]
    },
    {
     "name": "stdout",
     "output_type": "stream",
     "text": [
      "setuptools                75.8.2\n"
     ]
    },
    {
     "name": "stdout",
     "output_type": "stream",
     "text": [
      "simpy                     4.1.1\n"
     ]
    },
    {
     "name": "stdout",
     "output_type": "stream",
     "text": [
      "six                       1.17.0\n"
     ]
    },
    {
     "name": "stdout",
     "output_type": "stream",
     "text": [
      "sniffio                   1.3.1\n"
     ]
    },
    {
     "name": "stdout",
     "output_type": "stream",
     "text": [
      "soupsieve                 2.6\n"
     ]
    },
    {
     "name": "stdout",
     "output_type": "stream",
     "text": [
      "stack-data                None\n"
     ]
    },
    {
     "name": "stdout",
     "output_type": "stream",
     "text": [
      "sympy                     1.13.2\n"
     ]
    },
    {
     "name": "stdout",
     "output_type": "stream",
     "text": [
      "terminado                 None\n"
     ]
    },
    {
     "name": "stdout",
     "output_type": "stream",
     "text": [
      "text-unidecode            1.3\n"
     ]
    },
    {
     "name": "stdout",
     "output_type": "stream",
     "text": [
      "thrift                    0.20.0\n"
     ]
    },
    {
     "name": "stdout",
     "output_type": "stream",
     "text": [
      "tinycss2                  1.3.0\n"
     ]
    },
    {
     "name": "stdout",
     "output_type": "stream",
     "text": [
      "tomli                     None\n"
     ]
    },
    {
     "name": "stdout",
     "output_type": "stream",
     "text": [
      "tornado                   None\n"
     ]
    },
    {
     "name": "stdout",
     "output_type": "stream",
     "text": [
      "tqdm                      4.66.5\n"
     ]
    },
    {
     "name": "stdout",
     "output_type": "stream",
     "text": [
      "traitlets                 None\n"
     ]
    },
    {
     "name": "stdout",
     "output_type": "stream",
     "text": [
      "typing_extensions         4.12.2\n"
     ]
    },
    {
     "name": "stdout",
     "output_type": "stream",
     "text": [
      "tzdata                    2025.1\n"
     ]
    },
    {
     "name": "stdout",
     "output_type": "stream",
     "text": [
      "urllib3                   2.3.0\n"
     ]
    },
    {
     "name": "stdout",
     "output_type": "stream",
     "text": [
      "wcwidth                   0.2.13\n"
     ]
    },
    {
     "name": "stdout",
     "output_type": "stream",
     "text": [
      "webencodings              0.5.1\n"
     ]
    },
    {
     "name": "stdout",
     "output_type": "stream",
     "text": [
      "websocket-client          None\n"
     ]
    },
    {
     "name": "stdout",
     "output_type": "stream",
     "text": [
      "werkzeug                  None\n"
     ]
    },
    {
     "name": "stdout",
     "output_type": "stream",
     "text": [
      "widgetsnbextension        4.0.13\n"
     ]
    },
    {
     "name": "stdout",
     "output_type": "stream",
     "text": [
      "yapf                      0.40.2\n"
     ]
    },
    {
     "name": "stdout",
     "output_type": "stream",
     "text": [
      "zipp                      3.20.0\n"
     ]
    }
   ],
   "source": [
    "%pip list"
   ]
  },
  {
   "cell_type": "code",
   "execution_count": null,
   "id": "d9b5f1f9-9b98-4c16-917e-984c778ad4bc",
   "metadata": {
    "collapsed": false,
    "jupyter": {
     "outputs_hidden": false,
     "source_hidden": false
    },
    "pythonista": {
     "disabled": false
    }
   },
   "outputs": [
    {
     "name": "stdout",
     "output_type": "stream",
     "text": [
      "trying to import modules:\n",
      "packagename               version         modulename                result\n",
      "annotated-types           None            annotated_types            O.K.\n",
      "anyio                     4.4.0           anyio                      O.K.\n",
      "asttokens                 2.4.1           asttokens                  O.K.\n",
      "async-lru                 None            async_lru                  O.K.\n",
      "attrs                     24.2.0          attrs                      O.K.\n",
      "babel                     2.16.0          babel                      O.K.\n",
      "beautifulsoup4            4.13.3          bs4                        O.K.\n",
      "bleach                    6.1.0           bleach                     O.K.\n",
      "blinker                   1.8.2           blinker                    O.K.\n",
      "branca                    0.8.0           branca                     O.K.\n",
      "certifi                   2024.7.4        certifi                    O.K.\n",
      "charset-normalizer        3.3.2           charset_normalizer         O.K.\n",
      "comm                      None            comm                       O.K.\n",
      "contourpy                 1.3.1           contourpy                  O.K.\n",
      "cycler                    0.12.1          cycler                     O.K.\n",
      "debugpy                   1.8.12          debugpy                    O.K.\n",
      "decorator                 None            decorator                  O.K.\n",
      "defusedxml                0.7.1           defusedxml                 O.K.\n",
      "diskcache                 5.6.3           diskcache                  O.K.\n",
      "executing                 2.0.1           executing                  O.K.\n",
      "Faker                     27.4.0          faker                      O.K.\n",
      "fastjsonschema            2.21.1          fastjsonschema             O.K.\n",
      "filelock                  3.16.1          filelock                   O.K.\n",
      "flask                     None            flask                      O.K.\n",
      "fonttools                 4.55.6          fontTools                  No module named 'fontTools'\n",
      "fsspec                    2024.10.0       fsspec                     O.K.\n",
      "h11                       0.14.0          h11                        O.K.\n",
      "httpcore                  1.0.5           httpcore                   O.K.\n",
      "httpx                     0.27.0          httpx                      O.K.\n",
      "huggingface-hub           0.26.5          huggingface_hub            O.K.\n",
      "humanize                  4.11.0          humanize                   O.K.\n",
      "idna                      3.10            idna                       O.K.\n",
      "imageio                   2.37.0          imageio                    O.K.\n",
      "importlib_metadata        8.6.1           importlib_metadata         O.K.\n",
      "iniconfig                 2.0.0           iniconfig                  O.K.\n",
      "ipykernel                 6.29.5          ipykernel                  O.K.\n",
      "ipython                   8.26.0          IPython                    O.K.\n",
      "ipywidgets                8.1.5           ipywidgets                 O.K.\n",
      "itsdangerous              None            itsdangerous               O.K.\n",
      "jedi                      0.9.0           jedi                       O.K.\n",
      "Jinja2                    3.1.4           jinja2                     O.K.\n",
      "json5                     0.10.0          json5                      O.K.\n",
      "jsonschema                4.23.0          jsonschema                 No module named 'rpds'\n",
      "jsonschema-specifications 2024.10.1       jsonschema_specifications  cannot import name 'EMPTY_REGISTRY' from 'referencing.jsonschema' (/var/containers/Bundle/Application/E8FAD0F9-1BCC-44DB-A84E-6ECE2285DE30/PythonistaLab.app/Frameworks/Py3Kit.framework/pylib/site-packages/referencing/jsonschema.py)\n",
      "jupyter_client            8.6.2           jupyter_client             O.K.\n",
      "jupyter_core              5.7.2           jupyter_core               O.K.\n",
      "jupyter-events            0.12.0          jupyter_events             No module named 'rpds'\n",
      "jupyter-lsp               2.2.5           jupyter_lsp                No module named 'rpds'\n",
      "jupyter_server            2.14.2          jupyter_server             O.K.\n",
      "jupyter_server_terminals  0.5.3           jupyter_server_terminals   No module named 'rpds'\n",
      "jupyterlab                4.3.5           jupyterlab                 No module named 'rpds'\n",
      "jupyterlab_pygments       0.3.0           jupyterlab_pygments        O.K.\n",
      "jupyterlab_server         2.27.3          jupyterlab_server          No module named 'rpds'\n",
      "jupyterlab_widgets        3.0.13          jupyterlab_widgets         O.K.\n",
      "kiwisolver                1.4.8           kiwisolver                 O.K.\n",
      "MarkupSafe                2.1.5           markupsafe                 O.K.\n",
      "matplotlib                3.9.2           matplotlib                 O.K.\n",
      "matplotlib-inline         0.1.7           matplotlib_inline          O.K.\n",
      "mistune                   3.0.2           mistune                    O.K.\n",
      "mpmath                    1.3.0           mpmath                     O.K.\n",
      "nbclient                  0.10.0          nbclient                   No module named 'rpds'\n",
      "nbconvert                 7.16.4          nbconvert                  O.K.\n",
      "nbformat                  5.10.4          nbformat                   No module named 'rpds'\n",
      "nest-asyncio              1.6.0           nest_asyncio               O.K.\n",
      "notebook                  7.3.2           notebook                   O.K.\n",
      "notebook-shim             None            notebook_shim              O.K.\n",
      "numpy                     1.26.4          numpy                      O.K.\n",
      "overrides                 None            overrides                  O.K.\n",
      "packaging                 23.1            packaging                  O.K.\n",
      "pandas                    2.2.2           pandas                     O.K.\n",
      "pandocfilters             None            pandocfilters              O.K.\n",
      "pdoc                      15.0.0          pdoc                       O.K.\n",
      "pexpect                   4.9.0           pexpect                    O.K.\n",
      "pillow                    11.1.0          PIL                        O.K.\n",
      "pip                       25.0.1          pip                        O.K.\n",
      "platformdirs              4.2.2           platformdirs               O.K.\n",
      "pluggy                    1.5.0           pluggy                     O.K.\n",
      "proglog                   0.1.10          proglog                    O.K.\n",
      "prometheus_client         0.21.1          prometheus_client          O.K.\n",
      "prompt-toolkit            None            prompt_toolkit             O.K.\n",
      "ptyprocess                0.7.0           ptyprocess                 O.K.\n",
      "pure-eval                 None            pure_eval                  O.K.\n",
      "Pygments                  2.18.0          pygments                   O.K.\n",
      "pyparsing                 3.2.1           pyparsing                  O.K.\n",
      "pyperclip                 1.9.0           pyperclip                  O.K.\n",
      "pypng                     0.20220715.0    png                        O.K.\n",
      "pyrsistent                0.20.0          pyrsistent                 O.K.\n",
      "python-dateutil           2.9.0.post0     dateutil                   O.K.\n",
      "python-dotenv             None            dotenv                     O.K.\n",
      "python-json-logger        3.2.1           pythonjsonlogger           O.K.\n",
      "pytz                      2024.2          pytz                       O.K.\n",
      "PyYAML                    6.0.2           yaml                       O.K.\n",
      "pyzmq                     26.2.1          zmq                        O.K.\n",
      "qrcode                    7.4.2           qrcode                     O.K.\n",
      "referencing               0.36.2          referencing                O.K.\n",
      "requests                  2.32.3          requests                   O.K.\n",
      "rfc3339-validator         None            rfc3339_validator          O.K.\n",
      "rfc3986-validator         0.1.1           rfc3986_validator          O.K.\n",
      "rubicon-objc              0.5.0           rubicon                    O.K.\n",
      "Send2Trash                1.8.3           send2trash                 O.K.\n",
      "setuptools                75.8.2          setuptools                 No module named '_distutils_hack'\n",
      "simpy                     4.1.1           simpy                      O.K.\n",
      "six                       1.17.0          six                        O.K.\n",
      "sniffio                   1.3.1           sniffio                    O.K.\n",
      "soupsieve                 2.6             soupsieve                  O.K.\n",
      "stack-data                None            stack_data                 O.K.\n",
      "sympy                     1.13.2          sympy                      O.K.\n",
      "terminado                 None            terminado                  O.K.\n",
      "text-unidecode            1.3             text_unidecode             O.K.\n",
      "thrift                    0.20.0          thrift                     O.K.\n",
      "tinycss2                  1.3.0           tinycss2                   O.K.\n",
      "tomli                     None            tomli                      O.K.\n",
      "tornado                   None            tornado                    O.K.\n",
      "tqdm                      4.66.5          tqdm                       O.K.\n",
      "traitlets                 None            traitlets                  O.K.\n",
      "typing_extensions         4.12.2          typing_extensions          O.K.\n",
      "tzdata                    2025.1          tzdata                     O.K.\n",
      "urllib3                   2.3.0           urllib3                    O.K.\n",
      "wcwidth                   0.2.13          wcwidth                    O.K.\n",
      "webencodings              0.5.1           webencodings               O.K.\n",
      "websocket-client          None            websocket                  O.K.\n",
      "werkzeug                  None            werkzeug                   O.K.\n",
      "widgetsnbextension        4.0.13          widgetsnbextension         O.K.\n",
      "yapf                      0.40.2          yapf                       O.K.\n",
      "zipp                      3.20.0          zipp                       O.K.\n"
     ]
    }
   ],
   "source": [
    "modules=r\"\"\"annotated-types           None\n",
    "anyio                     4.4.0\n",
    "asttokens                 2.4.1\n",
    "async-lru                 None\n",
    "attrs                     24.2.0\n",
    "babel                     2.16.0\n",
    "beautifulsoup4            4.13.3\n",
    "bleach                    6.1.0\n",
    "blinker                   1.8.2\n",
    "branca                    0.8.0\n",
    "certifi                   2024.7.4\n",
    "charset-normalizer        3.3.2\n",
    "comm                      None\n",
    "contourpy                 1.3.1\n",
    "cycler                    0.12.1\n",
    "debugpy                   1.8.12\n",
    "decorator                 None\n",
    "defusedxml                0.7.1\n",
    "diskcache                 5.6.3\n",
    "executing                 2.0.1\n",
    "Faker                     27.4.0\n",
    "fastjsonschema            2.21.1\n",
    "filelock                  3.16.1\n",
    "flask                     None\n",
    "fonttools                 4.55.6\n",
    "fsspec                    2024.10.0\n",
    "h11                       0.14.0\n",
    "httpcore                  1.0.5\n",
    "httpx                     0.27.0\n",
    "huggingface-hub           0.26.5\n",
    "humanize                  4.11.0\n",
    "idna                      3.10\n",
    "imageio                   2.37.0\n",
    "importlib_metadata        8.6.1\n",
    "iniconfig                 2.0.0\n",
    "ipykernel                 6.29.5\n",
    "ipython                   8.26.0\n",
    "ipywidgets                8.1.5\n",
    "itsdangerous              None\n",
    "jedi                      0.9.0\n",
    "Jinja2                    3.1.4\n",
    "json5                     0.10.0\n",
    "jsonschema                4.23.0\n",
    "jsonschema-specifications 2024.10.1\n",
    "jupyter_client            8.6.2\n",
    "jupyter_core              5.7.2\n",
    "jupyter-events            0.12.0\n",
    "jupyter-lsp               2.2.5\n",
    "jupyter_server            2.14.2\n",
    "jupyter_server_terminals  0.5.3\n",
    "jupyterlab                4.3.5\n",
    "jupyterlab_pygments       0.3.0\n",
    "jupyterlab_server         2.27.3\n",
    "jupyterlab_widgets        3.0.13\n",
    "kiwisolver                1.4.8\n",
    "MarkupSafe                2.1.5\n",
    "matplotlib                3.9.2\n",
    "matplotlib-inline         0.1.7\n",
    "mistune                   3.0.2\n",
    "mpmath                    1.3.0\n",
    "nbclient                  0.10.0\n",
    "nbconvert                 7.16.4\n",
    "nbformat                  5.10.4\n",
    "nest-asyncio              1.6.0\n",
    "notebook                  7.3.2\n",
    "notebook-shim             None\n",
    "numpy                     1.26.4\n",
    "overrides                 None\n",
    "packaging                 23.1\n",
    "pandas                    2.2.2\n",
    "pandocfilters             None\n",
    "pdoc                      15.0.0\n",
    "pexpect                   4.9.0\n",
    "pillow                    11.1.0\n",
    "pip                       25.0.1\n",
    "platformdirs              4.2.2\n",
    "pluggy                    1.5.0\n",
    "proglog                   0.1.10\n",
    "prometheus_client         0.21.1\n",
    "prompt-toolkit            None\n",
    "ptyprocess                0.7.0\n",
    "pure-eval                 None\n",
    "Pygments                  2.18.0\n",
    "pyparsing                 3.2.1\n",
    "pyperclip                 1.9.0\n",
    "pypng                     0.20220715.0\n",
    "pyrsistent                0.20.0\n",
    "python-dateutil           2.9.0.post0\n",
    "python-dotenv             None\n",
    "python-json-logger        3.2.1\n",
    "pytz                      2024.2\n",
    "PyYAML                    6.0.2\n",
    "pyzmq                     26.2.1\n",
    "qrcode                    7.4.2\n",
    "referencing               0.36.2\n",
    "requests                  2.32.3\n",
    "rfc3339-validator         None\n",
    "rfc3986-validator         0.1.1\n",
    "rubicon-objc              0.5.0\n",
    "Send2Trash                1.8.3\n",
    "setuptools                75.8.2\n",
    "simpy                     4.1.1\n",
    "six                       1.17.0\n",
    "sniffio                   1.3.1\n",
    "soupsieve                 2.6\n",
    "stack-data                None\n",
    "sympy                     1.13.2\n",
    "terminado                 None\n",
    "text-unidecode            1.3\n",
    "thrift                    0.20.0\n",
    "tinycss2                  1.3.0\n",
    "tomli                     None\n",
    "tornado                   None\n",
    "tqdm                      4.66.5\n",
    "traitlets                 None\n",
    "typing_extensions         4.12.2\n",
    "tzdata                    2025.1\n",
    "urllib3                   2.3.0\n",
    "wcwidth                   0.2.13\n",
    "webencodings              0.5.1\n",
    "websocket-client          None\n",
    "werkzeug                  None\n",
    "widgetsnbextension        4.0.13\n",
    "yapf                      0.40.2\n",
    "zipp                      3.20.0\"\"\"\n",
    "print(\"trying to import modules:\")\n",
    "print(f'{\"packagename\":<25} {\"version\":<15} {\"modulename\":<25} result')\n",
    "for line in modules.splitlines():\n",
    "  packagename,*_,version=line.split(' ') \n",
    "  modulename=packagename\n",
    "  if modulename.startswith('python-'):\n",
    "    modulename=modulename.split('-',1)[-1]\n",
    "  modulename=modulename.replace('-','_')\n",
    "  modulenames={\n",
    "  \"beautifulsoup4\":\"bs4\",\n",
    "  \"ipython\":\"IPython\",\n",
    "  \"pillow\":\"PIL\",\n",
    "  \"Faker\":\"faker\",\n",
    "  \"fonttools\":\"fontTools\",\n",
    "  \"Pygments\":\"pygments\",\n",
    "  \"PyYAML\":\"yaml\",\n",
    "  \"rubicon-objc\":\"rubicon\",\n",
    "  \"Jinja2\":\"jinja2\",\n",
    "  \"MarkupSafe\":\"markupsafe\",\n",
    "  \"Send2Trash\":\"send2trash\",\n",
    "  \"pypng\":\"png\",\n",
    "  \"python-json-logger\":\"pythonjsonlogger\",\n",
    "  \"pyzmq\":\"zmq\",\n",
    "  \"websocket-client\":\"websocket\",\n",
    "  }\n",
    "  modulename=modulenames.get(packagename,modulename)\n",
    "  try:\n",
    "    \n",
    "    exec(f'import {modulename}')\n",
    "    print(f'{packagename:<25} {version:<15} {modulename:<25}  O.K.')\n",
    "  except Exception as e:\n",
    "    print(f'{packagename:<25} {version:<15} {modulename:<25}  {e}')\n"
   ]
  }
 ],
 "metadata": {
  "kernelspec": {
   "display_name": "Python 3 (ipykernel)",
   "language": "python",
   "name": "python3"
  },
  "language_info": {
   "codemirror_mode": {
    "name": "ipython",
    "version": 3
   },
   "file_extension": ".py",
   "mimetype": "text/x-python",
   "name": "python",
   "nbconvert_exporter": "python",
   "pygments_lexer": "ipython3",
   "version": "3.11.0"
  }
 },
 "nbformat": 4,
 "nbformat_minor": 5
}
